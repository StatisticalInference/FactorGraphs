{
 "cells": [
  {
   "cell_type": "markdown",
   "id": "b0d19ebe",
   "metadata": {},
   "source": [
    "# Using *fg.py* - A Toy Example\n",
    "\n",
    "Here, a trivial example will be presented to illustrate the proper use of *fg.py*.  In this example, the message\n",
    "\n",
    "$\\mathbf{m} = \\left[0, 0, 0, 0, 0, 0, 0, 0, 0, 0, 0, 0, 0, 0, 0, 0\\right]~\\in~\\mathbb{R}^{16}$\n",
    "\n",
    "will be encoded into codeword $\\mathbf{c}~\\in~\\mathbb{R}^{32}$ using an $(32, 16)$ LDPC code and transmitted over an AWGN channel \n",
    "\n",
    "$\\mathbf{y} = \\mathbf{c} + \\mathbf{n}$,\n",
    "\n",
    "where $\\mathbf{n}\\sim\\mathcal{N}\\left(\\mathbf{0}, \\sigma^2\\mathbf{I}\\right)$. Then, a message-passing decoder will be employed to recover the most likely sent codeword $\\hat{\\mathbf{c}}$ given observation $\\mathbf{y}$. "
   ]
  },
  {
   "cell_type": "code",
   "execution_count": 1,
   "id": "29ffcef4",
   "metadata": {},
   "outputs": [],
   "source": [
    "import numpy as np\n",
    "import fgSiva"
   ]
  },
  {
   "cell_type": "markdown",
   "id": "62f09d8d",
   "metadata": {},
   "source": [
    "### Define LDPC Factor Graph\n",
    "- This LDPC code was obtained from: https://www.uni-kl.de/fileadmin/chaco/public/alists_ccsds/CCSDS_ldpc_n32_k16.alist\n",
    "- *fg* requires a list of the edges between check and variable nodes. Each list within `__Check2VarEdges` corresponds to a check node and the elements of `__Check2VarEdges[i]` are the variable nodes that check `i` is connected to. \n",
    "- Messages sent between variable and check nodes are of length ${\\mathrm{seclength}}$\n",
    "- `maxdepth` parameter indicates the maximum depth of the tree induced by considering any given node as a root node\n",
    "\n",
    "#### WARNING: The `__init()__ ` function of `class BipartiteGraph` is *hard coded* to implement a specific type of check node, i.e. `CheckNodeFFT`. The default type of check node is likely **not** what you need. Be sure to use the correct type of check node within the bipartite graph class or you will obtain some very unexpected results. "
   ]
  },
  {
   "cell_type": "code",
   "execution_count": 2,
   "id": "e04fce68",
   "metadata": {},
   "outputs": [],
   "source": [
    "class LDPC_n32_k16(fgSiva.Encoding):\n",
    "    def __init__(self, seclength=1):\n",
    "        self.__Check2VarEdges = []\n",
    "        self.__Check2VarEdges.append([1, 2, 3, 6, 7, 10])\n",
    "        self.__Check2VarEdges.append([1, 3, 5, 6, 8, 9])\n",
    "        self.__Check2VarEdges.append([3, 4, 5, 7, 9, 10])\n",
    "        self.__Check2VarEdges.append([2, 4, 5, 6, 8, 10])\n",
    "        self.__Check2VarEdges.append([1, 2, 4, 7, 8, 9])\n",
    "        super().__init__(self.__Check2VarEdges, None, seclength)\n",
    "        self.maxdepth = 8"
   ]
  },
  {
   "cell_type": "markdown",
   "id": "86f87536",
   "metadata": {},
   "source": [
    "### Initialize Simulation"
   ]
  },
  {
   "cell_type": "code",
   "execution_count": 3,
   "id": "dbee4ec5",
   "metadata": {},
   "outputs": [
    {
     "name": "stdout",
     "output_type": "stream",
     "text": [
      "Size of parity check matrix: (5, 10)\n",
      "Rank of parity check matrix: 5\n",
      "[[1 0 0 0 0 0 0 1 1 1]\n",
      " [0 1 0 0 0 1 0 0 1 1]\n",
      " [0 0 1 0 0 0 1 1 0 1]\n",
      " [0 0 0 1 0 1 1 0 1 0]\n",
      " [0 0 0 0 1 1 1 1 0 0]]\n",
      "Number of parity column indices: 5\n",
      "Number of parity nodes: 5\n",
      "[[1 0 0 0 0]\n",
      " [0 1 0 0 0]\n",
      " [0 0 1 0 0]\n",
      " [0 0 0 1 0]\n",
      " [0 0 0 0 1]]\n",
      "Number of information nodes: 5\n",
      "[[0 0 1 1 1]\n",
      " [1 0 0 1 1]\n",
      " [0 1 1 0 1]\n",
      " [1 1 0 1 0]\n",
      " [1 1 1 0 0]]\n",
      "[0. 0. 0. 1. 0. 1. 0. 1. 0. 1.]\n"
     ]
    }
   ],
   "source": [
    "# Initialize LDPC factor graph\n",
    "LDPCFactorGraph = LDPC_n32_k16()\n",
    "\n",
    "# Create codeword\n",
    "#m = np.ones(16).astype(int)\n",
    "XX=np.array([1,0,1,0,1])\n",
    "#print(\"Message\",np.array(XX))\n",
    "\n",
    "# Encode codeword\n",
    "c = LDPCFactorGraph.encodemessage(XX)\n",
    "# NOTE: LDPCFactorGraph.encodemessage(m) will return the concatenation of belief vectors contained at each variable node. \n",
    "# This means that len(c) = 2 * len(codeword)\n",
    "# For example, codeword 010 will be returned as 100110, where [1, 0] corresponds to the belief vector of v0, [0, 1]\n",
    "# corresponds to the belief vector of v1, and [1, 0] corresponds to the belief vector of v2. \n",
    "# For a binary LDPC code, we can simply look at the belief that vi = 1 to recover the original codeword. \n",
    "# This is done below: \n",
    "#c = c[1::2]\n",
    "\n",
    "# We can verify that c is now of the proper length\n",
    "assert len(c) == 10\n",
    "\n",
    "# As m is the all zero message, its codeword should also be the all zero codeword. We can verify that as well: \n",
    "print(c)"
   ]
  },
  {
   "cell_type": "markdown",
   "id": "0acf5dbd",
   "metadata": {},
   "source": [
    "### Transmit codeword over AWGN channel"
   ]
  },
  {
   "cell_type": "code",
   "execution_count": 4,
   "id": "d79518a3",
   "metadata": {},
   "outputs": [
    {
     "name": "stdout",
     "output_type": "stream",
     "text": [
      "[-1.54230454 -1.06916099 -0.70077301  1.00416876 -1.22252761  1.2386711\n",
      " -1.00521422  2.3171975  -0.54552043  1.59964211]\n"
     ]
    }
   ],
   "source": [
    "x = (2*c-1)                                      # modulate using binary phase shift keying (BPSK)\n",
    "nvar = 0.5                                 # Note: sigma^2 was chosen arbitrarily\n",
    "n = np.sqrt(nvar) * np.random.randn(len(c))     # generate random Gaussian noise\n",
    "y = x + n                                       # generate noisy observation of c\n",
    "#y=np.array([-0.63,-0.83,-0.73,-0.04,0.1,0.95,-0.76,0.66,-0.55,0.58])\n",
    "print(y)"
   ]
  },
  {
   "cell_type": "markdown",
   "id": "28ef6ebc",
   "metadata": {},
   "source": [
    "### Decode codeword using LDPC factor graph\n",
    "\n",
    "Here, we must convert observations $y_i$ to a vector of probabilities $\\left[\\mathbb{P}(x_i = 0 | Y_i = y_i), \\mathbb{P}(x_i = 1 | Y_i = y_i)\\right]$. To do this, we will use the formula\n",
    "\n",
    "$\\mathbb{P}(x_i = 1 | Y_i = y_i) = \\frac{1}{1 + \\exp\\left(\\frac{-2}{\\sigma^2}y_i\\right)}$\n",
    "\n",
    "\n"
   ]
  },
  {
   "cell_type": "code",
   "execution_count": 5,
   "id": "9e24fc56",
   "metadata": {},
   "outputs": [
    {
     "name": "stdout",
     "output_type": "stream",
     "text": [
      "True codeword: \n",
      "[0. 0. 0. 1. 0. 1. 0. 1. 0. 1.]\n",
      "Estimated codeword: \n",
      "[0. 0. 0. 1. 0. 1. 0. 1. 0. 1.]\n",
      "Error rate: 0.0\n"
     ]
    },
    {
     "name": "stderr",
     "output_type": "stream",
     "text": [
      "C:\\Users\\SIVA ADITYA GOOTY\\Desktop\\Git\\FactorGraphs\\fgSiva.py:172: VisibleDeprecationWarning: Creating an ndarray from ragged nested sequences (which is a list-or-tuple of lists-or-tuples-or ndarrays with different lengths or shapes) is deprecated. If you meant to do this, you must specify 'dtype=object' when creating the ndarray.\n",
      "  states = np.sum(np.array(states))\n"
     ]
    }
   ],
   "source": [
    "# Note: it is good practice to reset the factor graph if you will be using it multiple times in a row\n",
    "# (e.g. averaging over multiple simulations)\n",
    "LDPCFactorGraph.reset()\n",
    "\n",
    "# Initialize variable nodes with observations\n",
    "# Note that varnodeid is starts with 1 and python utilizes 0-based indexing\n",
    "#LDPCFactorGraph.printgraphcontent()\n",
    "for varnodeid in LDPCFactorGraph.varlist:\n",
    "    Pxi_1 = (-2)* y[varnodeid-1]\n",
    "    #print(Pxi_1)\n",
    "    #print(\"Prob\",Pxi_1)\n",
    "    LDPCFactorGraph.setobservation(varnodeid, Pxi_1)\n",
    "#LDPCFactorGraph.printgraphcontent()\n",
    "# Run message-passing algorithm on graph\n",
    "numIterations = 5\n",
    "for idxiteration in range(numIterations):\n",
    "    LDPCFactorGraph.updatechecks()\n",
    "    LDPCFactorGraph.updatevars()\n",
    "    #print(\"######\",idxiteration)\n",
    "    #LDPCFactorGraph.printgraphcontent()\n",
    "    \n",
    "# Extract information from graph\n",
    "cHt = np.zeros(32)\n",
    "tmp=np.zeros(10)\n",
    "for varnodeid in LDPCFactorGraph.varlist:\n",
    "    tmp[varnodeid-1] = LDPCFactorGraph.getextrinsicestimate(varnodeid)+LDPCFactorGraph.getobservation(varnodeid)\n",
    "    if tmp[varnodeid-1]<0:\n",
    "        tmp[varnodeid-1]=1\n",
    "    else:\n",
    "        tmp[varnodeid-1]=0\n",
    "\n",
    "# Print out true codeword and codeword codeword estimate\n",
    "print('True codeword: \\n' + str(c))\n",
    "print('Estimated codeword: \\n' + str(tmp))\n",
    "print('Error rate: ' + str(np.sum(c != tmp) / 32))"
   ]
  },
  {
   "cell_type": "code",
   "execution_count": null,
   "id": "cec28e9c",
   "metadata": {},
   "outputs": [],
   "source": []
  }
 ],
 "metadata": {
  "kernelspec": {
   "display_name": "Python 3 (ipykernel)",
   "language": "python",
   "name": "python3"
  },
  "language_info": {
   "codemirror_mode": {
    "name": "ipython",
    "version": 3
   },
   "file_extension": ".py",
   "mimetype": "text/x-python",
   "name": "python",
   "nbconvert_exporter": "python",
   "pygments_lexer": "ipython3",
   "version": "3.9.9"
  }
 },
 "nbformat": 4,
 "nbformat_minor": 5
}
